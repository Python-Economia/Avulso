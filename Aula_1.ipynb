{
 "cells": [
  {
   "cell_type": "code",
   "execution_count": 1,
   "metadata": {},
   "outputs": [],
   "source": [
    "# https://docs.xlwings.org/en/latest/quickstart.html\n",
    "import xlwings as xw"
   ]
  },
  {
   "cell_type": "code",
   "execution_count": 2,
   "metadata": {},
   "outputs": [
    {
     "data": {
      "text/plain": [
       "'0.30.2'"
      ]
     },
     "execution_count": 2,
     "metadata": {},
     "output_type": "execute_result"
    }
   ],
   "source": [
    "xw.__version__"
   ]
  },
  {
   "cell_type": "code",
   "execution_count": 3,
   "metadata": {},
   "outputs": [],
   "source": [
    "arquivo_boletos_pagos = xw.Book('Boletos pagos.xlsx')\n",
    "pagos = arquivo_boletos_pagos.sheets['Recebido']\n",
    "\n",
    "pagos_col_total, pagos_col_valor, pagos_col_juros = \"B\", \"C\", \"D\""
   ]
  },
  {
   "cell_type": "code",
   "execution_count": 4,
   "metadata": {},
   "outputs": [],
   "source": [
    "arquivo_apoio = xw.Book('Apoio.xlsx')\n",
    "apoio = arquivo_apoio.sheets['preencher']"
   ]
  },
  {
   "cell_type": "code",
   "execution_count": 5,
   "metadata": {},
   "outputs": [],
   "source": [
    "arquivo_receita = xw.Book('Receita.xlsx')\n",
    "receita = arquivo_receita.sheets['Receita']\n",
    "\n",
    "receita_col_total, receita_col_valor, receita_col_juros = \"B\", \"C\", \"D\""
   ]
  },
  {
   "cell_type": "code",
   "execution_count": 11,
   "metadata": {},
   "outputs": [],
   "source": [
    "linha_boletos_pagos = 2\n",
    "while (pagos[\"A\" + str(linha_boletos_pagos)].value != None):\n",
    "    apoio[\"B1\"].value = pagos[\"A\" + str(linha_boletos_pagos)].value\n",
    "    linha_receita = int(apoio[\"B2\"].value)   # linha a ser preenchida no arquivo Receita\n",
    "    receita[receita_col_total + str(linha_receita)].value = pagos[pagos_col_total + str(linha_boletos_pagos)].value\n",
    "    receita[receita_col_valor + str(linha_receita)].value = pagos[pagos_col_valor + str(linha_boletos_pagos)].value\n",
    "    receita[receita_col_juros + str(linha_receita)].value = pagos[pagos_col_juros  + str(linha_boletos_pagos)].value\n",
    "    linha_boletos_pagos += 1\n",
    "    \n",
    "apoio[\"B1\"].value = \"\""
   ]
  },
  {
   "cell_type": "code",
   "execution_count": null,
   "metadata": {},
   "outputs": [],
   "source": []
  },
  {
   "cell_type": "code",
   "execution_count": null,
   "metadata": {},
   "outputs": [],
   "source": []
  },
  {
   "cell_type": "code",
   "execution_count": null,
   "metadata": {},
   "outputs": [],
   "source": []
  }
 ],
 "metadata": {
  "kernelspec": {
   "display_name": "Python 3",
   "language": "python",
   "name": "python3"
  },
  "language_info": {
   "codemirror_mode": {
    "name": "ipython",
    "version": 3
   },
   "file_extension": ".py",
   "mimetype": "text/x-python",
   "name": "python",
   "nbconvert_exporter": "python",
   "pygments_lexer": "ipython3",
   "version": "3.7.3"
  }
 },
 "nbformat": 4,
 "nbformat_minor": 2
}
